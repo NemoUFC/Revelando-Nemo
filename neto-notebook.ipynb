{
 "cells": [
  {
   "cell_type": "code",
   "execution_count": 109,
   "metadata": {},
   "outputs": [],
   "source": [
    "import numpy as np\n",
    "import pandas as pd\n",
    "import matplotlib.pyplot as plt\n",
    "\n",
    "import seaborn as sns\n",
    "import datetime"
   ]
  },
  {
   "cell_type": "code",
   "execution_count": 110,
   "metadata": {},
   "outputs": [],
   "source": [
    "df = pd.read_json('baseDeDadosHackathonTCE.json').T.reset_index(drop=True)"
   ]
  },
  {
   "cell_type": "code",
   "execution_count": 111,
   "metadata": {},
   "outputs": [
    {
     "data": {
      "text/plain": [
       "Index(['exercicio', 'unidadeOrcamentaria', 'nEmpenho', 'beneficiario',\n",
       "       'periodo', 'destino', 'motivo', 'valorTotalDiario', 'situacaoEmpenho'],\n",
       "      dtype='object')"
      ]
     },
     "execution_count": 111,
     "metadata": {},
     "output_type": "execute_result"
    }
   ],
   "source": [
    "df.keys()"
   ]
  },
  {
   "cell_type": "code",
   "execution_count": 112,
   "metadata": {},
   "outputs": [],
   "source": [
    "df = df[df['situacaoEmpenho'] == 'Pago']"
   ]
  },
  {
   "cell_type": "code",
   "execution_count": 113,
   "metadata": {},
   "outputs": [],
   "source": [
    "df_values = df['valorTotalDiario']"
   ]
  },
  {
   "cell_type": "code",
   "execution_count": 114,
   "metadata": {},
   "outputs": [],
   "source": [
    "def stf(value):\n",
    "    value = value.replace('.','').replace(',','.')\n",
    "    return float(value)"
   ]
  },
  {
   "cell_type": "code",
   "execution_count": 115,
   "metadata": {},
   "outputs": [
    {
     "data": {
      "text/plain": [
       "0        352.36\n",
       "1       1920.00\n",
       "3       2116.03\n",
       "4       2331.90\n",
       "5       2114.16\n",
       "         ...   \n",
       "8237     840.00\n",
       "8238     700.00\n",
       "8239    1440.00\n",
       "8240    1440.00\n",
       "8241    1650.00\n",
       "Name: valorTotalDiario, Length: 7814, dtype: float64"
      ]
     },
     "execution_count": 115,
     "metadata": {},
     "output_type": "execute_result"
    }
   ],
   "source": [
    "df_values.apply(stf)"
   ]
  },
  {
   "cell_type": "code",
   "execution_count": 116,
   "metadata": {},
   "outputs": [],
   "source": [
    "def calc_per(date):\n",
    "    date1, date2 = date.split('a')\n",
    "    date1 = datetime.datetime.strptime(date1.strip(), '%d/%m/%Y')\n",
    "    date2 = datetime.datetime.strptime(date2.strip(), '%d/%m/%Y')\n",
    "    duration = date2 - date1\n",
    "    return duration.days\n",
    "    "
   ]
  },
  {
   "cell_type": "code",
   "execution_count": 117,
   "metadata": {},
   "outputs": [],
   "source": [
    "df['periodo'] = df['periodo'].apply(calc_per)"
   ]
  },
  {
   "cell_type": "code",
   "execution_count": 118,
   "metadata": {},
   "outputs": [],
   "source": [
    "df2 = df"
   ]
  },
  {
   "cell_type": "code",
   "execution_count": 119,
   "metadata": {},
   "outputs": [],
   "source": [
    "df2['exercicio'] = df['exercicio'].apply(int)\n",
    "df2['nEmpenho']  = df['nEmpenho'].apply(int)\n",
    "df2['valorTotalDiario']   = df['valorTotalDiario'].apply(stf)"
   ]
  },
  {
   "cell_type": "code",
   "execution_count": 120,
   "metadata": {},
   "outputs": [],
   "source": [
    "df2['unidadeOrcamentaria'] = pd.get_dummies(df['unidadeOrcamentaria'])\n",
    "df2['beneficiario']        = pd.get_dummies(df['beneficiario'])\n",
    "df2['destino']             = pd.get_dummies(df['destino'])"
   ]
  },
  {
   "cell_type": "code",
   "execution_count": 121,
   "metadata": {},
   "outputs": [
    {
     "data": {
      "text/plain": [
       "0       0\n",
       "1       0\n",
       "3       0\n",
       "4       0\n",
       "5       0\n",
       "       ..\n",
       "8237    0\n",
       "8238    0\n",
       "8239    0\n",
       "8240    0\n",
       "8241    0\n",
       "Name: unidadeOrcamentaria, Length: 7814, dtype: uint8"
      ]
     },
     "execution_count": 121,
     "metadata": {},
     "output_type": "execute_result"
    }
   ],
   "source": [
    "df['unidadeOrcamentaria']"
   ]
  },
  {
   "cell_type": "code",
   "execution_count": null,
   "metadata": {},
   "outputs": [],
   "source": []
  },
  {
   "cell_type": "code",
   "execution_count": 86,
   "metadata": {},
   "outputs": [],
   "source": [
    "df_brasilia = df[df['destino'] == 'BRASILIA-DF']['valorTotalDiario']"
   ]
  },
  {
   "cell_type": "code",
   "execution_count": 87,
   "metadata": {},
   "outputs": [],
   "source": [
    "df_brasilia = df_brasilia.apply(stf)"
   ]
  },
  {
   "cell_type": "code",
   "execution_count": 88,
   "metadata": {},
   "outputs": [
    {
     "data": {
      "text/plain": [
       "1     1920.0\n",
       "15    1100.0\n",
       "22    1750.0\n",
       "24    1800.0\n",
       "26    1920.0\n",
       "Name: valorTotalDiario, dtype: float64"
      ]
     },
     "execution_count": 88,
     "metadata": {},
     "output_type": "execute_result"
    }
   ],
   "source": [
    "df_brasilia.head()"
   ]
  },
  {
   "cell_type": "code",
   "execution_count": 89,
   "metadata": {},
   "outputs": [
    {
     "data": {
      "image/png": "[encoded data removed]",
      "text/plain": [
       "<Figure size 432x288 with 1 Axes>"
      ]
     },
     "metadata": {
      "needs_background": "light"
     },
     "output_type": "display_data"
    }
   ],
   "source": [
    "plt.boxplot(df_brasilia, notch=True)\n",
    "plt.show()"
   ]
  },
  {
   "cell_type": "code",
   "execution_count": 90,
   "metadata": {},
   "outputs": [
    {
     "data": {
      "text/plain": [
       "[<matplotlib.lines.Line2D at 0x7f1a9e25e160>]"
      ]
     },
     "execution_count": 90,
     "metadata": {},
     "output_type": "execute_result"
    },
    {
     "data": {
      "image/png": "[encoded data removed]",
      "text/plain": [
       "<Figure size 432x288 with 1 Axes>"
      ]
     },
     "metadata": {
      "needs_background": "light"
     },
     "output_type": "display_data"
    }
   ],
   "source": [
    "plt.plot(range(len(df_brasilia)), df_brasilia)"
   ]
  },
  {
   "cell_type": "code",
   "execution_count": 91,
   "metadata": {},
   "outputs": [],
   "source": [
    "df_brasilia_fraud = df[df['destino'] == 'BRASILIA-DF']\n",
    "df_brasilia_fraud = df_brasilia_fraud[df_brasilia_fraud['valorTotalDiario'].apply(stf) >= 2*np.mean(df_brasilia_fraud['valorTotalDiario'].apply(stf))]"
   ]
  },
  {
   "cell_type": "code",
   "execution_count": 92,
   "metadata": {},
   "outputs": [
    {
     "data": {
      "text/html": [
       "<div>\n",
       "<style scoped>\n",
       "    .dataframe tbody tr th:only-of-type {\n",
       "        vertical-align: middle;\n",
       "    }\n",
       "\n",
       "    .dataframe tbody tr th {\n",
       "        vertical-align: top;\n",
       "    }\n",
       "\n",
       "    .dataframe thead th {\n",
       "        text-align: right;\n",
       "    }\n",
       "</style>\n",
       "<table border=\"1\" class=\"dataframe\">\n",
       "  <thead>\n",
       "    <tr style=\"text-align: right;\">\n",
       "      <th></th>\n",
       "      <th>exercicio</th>\n",
       "      <th>unidadeOrcamentaria</th>\n",
       "      <th>nEmpenho</th>\n",
       "      <th>beneficiario</th>\n",
       "      <th>periodo</th>\n",
       "      <th>destino</th>\n",
       "      <th>motivo</th>\n",
       "      <th>valorTotalDiario</th>\n",
       "      <th>situacaoEmpenho</th>\n",
       "    </tr>\n",
       "  </thead>\n",
       "  <tbody>\n",
       "    <tr>\n",
       "      <th>185</th>\n",
       "      <td>2014</td>\n",
       "      <td>26.101-SECRETARIA MUNICIPAL DE DESENVOLVIMENTO...</td>\n",
       "      <td>0423</td>\n",
       "      <td>MARIA AZENILDA VIEIRA DE ARAUJO</td>\n",
       "      <td>5</td>\n",
       "      <td>BRASILIA-DF</td>\n",
       "      <td>PARTICIPAR DA  III CONFERENCIA NACIONAL DE ECO...</td>\n",
       "      <td>2.700,00</td>\n",
       "      <td>Pago</td>\n",
       "    </tr>\n",
       "    <tr>\n",
       "      <th>388</th>\n",
       "      <td>2014</td>\n",
       "      <td>32.101-SECRETARIA MUNICIPAL DE CULTURA DE FORT...</td>\n",
       "      <td>0496</td>\n",
       "      <td>MARIA HERBENIA GURGEL COSTA</td>\n",
       "      <td>5</td>\n",
       "      <td>BRASILIA-DF</td>\n",
       "      <td>PARA PARTICIPAR DO XIV WORKSHOP DO SISTEMA CFB...</td>\n",
       "      <td>2.700,00</td>\n",
       "      <td>Pago</td>\n",
       "    </tr>\n",
       "    <tr>\n",
       "      <th>517</th>\n",
       "      <td>2014</td>\n",
       "      <td>30.101-SECRETARIA MUNICIPAL DE TURISMO DE FORT...</td>\n",
       "      <td>0282</td>\n",
       "      <td>REINALDO RIGAUD SALMITO</td>\n",
       "      <td>4</td>\n",
       "      <td>BRASILIA-DF</td>\n",
       "      <td>PARTICIPAR DO CURSO DE GESTAO DE PROJETOS NA  ...</td>\n",
       "      <td>2.750,00</td>\n",
       "      <td>Pago</td>\n",
       "    </tr>\n",
       "    <tr>\n",
       "      <th>1133</th>\n",
       "      <td>2014</td>\n",
       "      <td>23.101-SECRETARIA MUNICIPAL DE FINANCAS</td>\n",
       "      <td>0118</td>\n",
       "      <td>MARIA CHRISTINA MACHADO PUBLIO</td>\n",
       "      <td>9</td>\n",
       "      <td>BRASILIA-DF</td>\n",
       "      <td>PAGAMENTO DE ONZE DIARIS AFIM DE PARTICIPAR DE...</td>\n",
       "      <td>4.320,00</td>\n",
       "      <td>Pago</td>\n",
       "    </tr>\n",
       "    <tr>\n",
       "      <th>1447</th>\n",
       "      <td>2015</td>\n",
       "      <td>31.101-SECRETARIA MUNICIPAL DO TRABALHO, DESEN...</td>\n",
       "      <td>0859</td>\n",
       "      <td>CLAUDIO RICARDO GOMES DE LIMA</td>\n",
       "      <td>4</td>\n",
       "      <td>BRASILIA-DF</td>\n",
       "      <td>DIARIAS COM OBJETIVO DE PARTICIPAR DA CONFEREN...</td>\n",
       "      <td>2.750,00</td>\n",
       "      <td>Pago</td>\n",
       "    </tr>\n",
       "  </tbody>\n",
       "</table>\n",
       "</div>"
      ],
      "text/plain": [
       "     exercicio                                unidadeOrcamentaria nEmpenho  \\\n",
       "185       2014  26.101-SECRETARIA MUNICIPAL DE DESENVOLVIMENTO...     0423   \n",
       "388       2014  32.101-SECRETARIA MUNICIPAL DE CULTURA DE FORT...     0496   \n",
       "517       2014  30.101-SECRETARIA MUNICIPAL DE TURISMO DE FORT...     0282   \n",
       "1133      2014            23.101-SECRETARIA MUNICIPAL DE FINANCAS     0118   \n",
       "1447      2015  31.101-SECRETARIA MUNICIPAL DO TRABALHO, DESEN...     0859   \n",
       "\n",
       "                         beneficiario  periodo      destino  \\\n",
       "185   MARIA AZENILDA VIEIRA DE ARAUJO        5  BRASILIA-DF   \n",
       "388       MARIA HERBENIA GURGEL COSTA        5  BRASILIA-DF   \n",
       "517           REINALDO RIGAUD SALMITO        4  BRASILIA-DF   \n",
       "1133   MARIA CHRISTINA MACHADO PUBLIO        9  BRASILIA-DF   \n",
       "1447    CLAUDIO RICARDO GOMES DE LIMA        4  BRASILIA-DF   \n",
       "\n",
       "                                                 motivo valorTotalDiario  \\\n",
       "185   PARTICIPAR DA  III CONFERENCIA NACIONAL DE ECO...         2.700,00   \n",
       "388   PARA PARTICIPAR DO XIV WORKSHOP DO SISTEMA CFB...         2.700,00   \n",
       "517   PARTICIPAR DO CURSO DE GESTAO DE PROJETOS NA  ...         2.750,00   \n",
       "1133  PAGAMENTO DE ONZE DIARIS AFIM DE PARTICIPAR DE...         4.320,00   \n",
       "1447  DIARIAS COM OBJETIVO DE PARTICIPAR DA CONFEREN...         2.750,00   \n",
       "\n",
       "     situacaoEmpenho  \n",
       "185             Pago  \n",
       "388             Pago  \n",
       "517             Pago  \n",
       "1133            Pago  \n",
       "1447            Pago  "
      ]
     },
     "execution_count": 92,
     "metadata": {},
     "output_type": "execute_result"
    }
   ],
   "source": [
    "df_brasilia_fraud.head()"
   ]
  },
  {
   "cell_type": "code",
   "execution_count": 122,
   "metadata": {},
   "outputs": [],
   "source": [
    "from sklearn.model_selection import train_test_split\n",
    "from sklearn.linear_model import LinearRegression"
   ]
  },
  {
   "cell_type": "code",
   "execution_count": 123,
   "metadata": {},
   "outputs": [],
   "source": [
    "lm = LinearRegression()"
   ]
  },
  {
   "cell_type": "code",
   "execution_count": 124,
   "metadata": {},
   "outputs": [
    {
     "data": {
      "text/plain": [
       "Index(['exercicio', 'unidadeOrcamentaria', 'nEmpenho', 'beneficiario',\n",
       "       'periodo', 'destino', 'motivo', 'valorTotalDiario', 'situacaoEmpenho'],\n",
       "      dtype='object')"
      ]
     },
     "execution_count": 124,
     "metadata": {},
     "output_type": "execute_result"
    }
   ],
   "source": [
    "df.keys()"
   ]
  },
  {
   "cell_type": "code",
   "execution_count": 125,
   "metadata": {},
   "outputs": [],
   "source": [
    "y = df2['valorTotalDiario']\n",
    "X = df2[['exercicio', 'unidadeOrcamentaria', 'nEmpenho', 'beneficiario', 'periodo', 'destino']]"
   ]
  },
  {
   "cell_type": "code",
   "execution_count": 126,
   "metadata": {},
   "outputs": [],
   "source": [
    "X_train, X_test, y_train, y_test = train_test_split(X, y, test_size=0.3)"
   ]
  },
  {
   "cell_type": "code",
   "execution_count": 127,
   "metadata": {},
   "outputs": [
    {
     "data": {
      "text/plain": [
       "LinearRegression(copy_X=True, fit_intercept=True, n_jobs=None, normalize=False)"
      ]
     },
     "execution_count": 127,
     "metadata": {},
     "output_type": "execute_result"
    }
   ],
   "source": [
    "lm.fit(X_train, y_train)"
   ]
  },
  {
   "cell_type": "code",
   "execution_count": 128,
   "metadata": {},
   "outputs": [
    {
     "data": {
      "text/plain": [
       "array([ 2.18619651e+01,  2.26779335e+02,  1.17083043e-02, -3.39067375e+02,\n",
       "        1.89257292e+02, -4.05990675e+02])"
      ]
     },
     "execution_count": 128,
     "metadata": {},
     "output_type": "execute_result"
    }
   ],
   "source": [
    "lm.coef_"
   ]
  },
  {
   "cell_type": "code",
   "execution_count": 129,
   "metadata": {},
   "outputs": [],
   "source": [
    "predictions = lm.predict(X_test)"
   ]
  },
  {
   "cell_type": "code",
   "execution_count": 130,
   "metadata": {},
   "outputs": [
    {
     "data": {
      "text/plain": [
       "<matplotlib.collections.PathCollection at 0x7f1a9e7d0908>"
      ]
     },
     "execution_count": 130,
     "metadata": {},
     "output_type": "execute_result"
    },
    {
     "data": {
      "image/png": "[encoded data removed]",
      "text/plain": [
       "<Figure size 432x288 with 1 Axes>"
      ]
     },
     "metadata": {
      "needs_background": "light"
     },
     "output_type": "display_data"
    }
   ],
   "source": [
    "plt.scatter(x=predictions, y=y_test)"
   ]
  },
  {
   "cell_type": "code",
   "execution_count": null,
   "metadata": {},
   "outputs": [],
   "source": []
  },
  {
   "cell_type": "code",
   "execution_count": null,
   "metadata": {},
   "outputs": [],
   "source": []
  }
 ],
 "metadata": {
  "kernelspec": {
   "display_name": "Python 3",
   "language": "python",
   "name": "python3"
  },
  "language_info": {
   "codemirror_mode": {
    "name": "ipython",
    "version": 3
   },
   "file_extension": ".py",
   "mimetype": "text/x-python",
   "name": "python",
   "nbconvert_exporter": "python",
   "pygments_lexer": "ipython3",
   "version": "3.6.8"
  }
 },
 "nbformat": 4,
 "nbformat_minor": 2
}
